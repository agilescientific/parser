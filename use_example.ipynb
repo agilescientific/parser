{
 "cells": [
  {
   "cell_type": "markdown",
   "metadata": {},
   "source": [
    "## API example use"
   ]
  },
  {
   "cell_type": "code",
   "execution_count": null,
   "metadata": {},
   "outputs": [],
   "source": [
    "import requests"
   ]
  },
  {
   "cell_type": "code",
   "execution_count": null,
   "metadata": {},
   "outputs": [],
   "source": [
    "text = '''\n",
    "The Cambrian Period was the first geological period of the Paleozoic Era, and of the Phanerozoic Eon.\n",
    "The Cambrian lasted 55.6 million years from the end of the preceding Ediacaran Period 541 million years ago (mya) to the beginning of the Ordovician Period 485.4 mya.\n",
    "Its subdivisions, and its base, are somewhat in flux. The period was established (as \"Cambrian series\") by Adam Sedgwick, who named it after Cambria, the Latin name of Wales, where Britain's Cambrian rocks are best exposed.\n",
    "The Cambrian is unique in its unusually high proportion of lagerstätte sedimentary deposits, sites of exceptional preservation where \"soft\" parts of organisms are preserved as well as their more resistant shells.\n",
    "As a result, our understanding of the Cambrian biology surpasses that of some later periods.\n",
    "''' # This is from the Wikipedia article about the Cambrian Period. Non-ASCII characters were stripped out."
   ]
  },
  {
   "cell_type": "code",
   "execution_count": null,
   "metadata": {},
   "outputs": [],
   "source": [
    "r = requests.get(f'http://127.0.0.1:5000/api/?text={text}')"
   ]
  },
  {
   "cell_type": "code",
   "execution_count": null,
   "metadata": {},
   "outputs": [],
   "source": [
    "r.json()"
   ]
  },
  {
   "cell_type": "markdown",
   "metadata": {},
   "source": [
    "We can also keep only the unique interval, if we do not want numerous duplicates, like the above example has:"
   ]
  },
  {
   "cell_type": "code",
   "execution_count": null,
   "metadata": {},
   "outputs": [],
   "source": [
    "unique_chronos = {chrono['interval']: chrono for chrono in r.json()['chronos']}\n",
    "unique_chronos"
   ]
  },
  {
   "cell_type": "code",
   "execution_count": null,
   "metadata": {},
   "outputs": [],
   "source": []
  }
 ],
 "metadata": {
  "kernelspec": {
   "display_name": "Python 3",
   "language": "python",
   "name": "python3"
  },
  "language_info": {
   "codemirror_mode": {
    "name": "ipython",
    "version": 3
   },
   "file_extension": ".py",
   "mimetype": "text/x-python",
   "name": "python",
   "nbconvert_exporter": "python",
   "pygments_lexer": "ipython3",
   "version": "3.8.5"
  }
 },
 "nbformat": 4,
 "nbformat_minor": 4
}
